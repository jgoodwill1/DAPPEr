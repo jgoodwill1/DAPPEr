{
 "cells": [
  {
   "cell_type": "code",
   "execution_count": 1,
   "metadata": {},
   "outputs": [],
   "source": [
    "import numpy as np\n",
    "import os\n",
    "from scipy import signal\n",
    "# import UDIP_Lib.UDIP_Lib_V19 as UDIP_Lib  #making updating UDIP_Lib easier\n",
    "import Fitting.RockSat_1_14_fitting_functions as R_fitting\n",
    "import json\n",
    "import pandas as pd\n",
    "import matplotlib.pyplot as plt\n",
    "from RockSat_json.RockSat_json import *"
   ]
  },
  {
   "cell_type": "code",
   "execution_count": 2,
   "metadata": {},
   "outputs": [
    {
     "name": "stdout",
     "output_type": "stream",
     "text": [
      "/Users/joshuagoodwill/Library/CloudStorage/GoogleDrive-goodwill@udel.edu/My Drive/DAPPEr_Dr/base\n"
     ]
    }
   ],
   "source": [
    "!pwd"
   ]
  },
  {
   "cell_type": "code",
   "execution_count": 3,
   "metadata": {},
   "outputs": [],
   "source": [
    "packets = import_data('../UDIP4/data/json/UDIP_4_800s.json')\n",
    "# def get_sweep(sw, cn = 0):\n",
    "\n",
    "#   start = sw['Start']\n",
    "#   stop =  sw['Stop']\n",
    "\n",
    "#   sw['Voltage'] = np.array(sw['Voltage'])\n",
    "#   sw[f'Current{cn}'] = np.array(sw[f'Current{cn}'])\n",
    "\n"
   ]
  },
  {
   "cell_type": "code",
   "execution_count": 10,
   "metadata": {},
   "outputs": [
    {
     "name": "stdout",
     "output_type": "stream",
     "text": [
      "108.346\n"
     ]
    }
   ],
   "source": [
    "print(packets['packets']['Full']['0']['Stop']/1000)"
   ]
  },
  {
   "cell_type": "code",
   "execution_count": 15,
   "metadata": {},
   "outputs": [
    {
     "name": "stdout",
     "output_type": "stream",
     "text": [
      "262.325\n"
     ]
    }
   ],
   "source": [
    "sw = 400\n",
    "V = packets['packets']['Full'][f'{sw}']['Voltage']\n",
    "I = packets['packets']['Full'][f'{sw}']['Current0']\n",
    "\n",
    "print(packets['packets']['Full'][f'{sw}']['Stop']/1000)\n"
   ]
  },
  {
   "cell_type": "code",
   "execution_count": 16,
   "metadata": {},
   "outputs": [],
   "source": [
    "import pandas as pd\n",
    "\n",
    "df = pd.DataFrame({'Voltage': V, 'Current': I})\n",
    "df.to_csv(f'IV_{sw}.csv')"
   ]
  },
  {
   "cell_type": "code",
   "execution_count": 58,
   "metadata": {},
   "outputs": [
    {
     "data": {
      "text/plain": [
       "[<matplotlib.lines.Line2D at 0x7f99e0369df0>]"
      ]
     },
     "execution_count": 58,
     "metadata": {},
     "output_type": "execute_result"
    },
    {
     "data": {
      "image/png": "[encoded data removed]",
      "text/plain": [
       "<Figure size 432x288 with 1 Axes>"
      ]
     },
     "metadata": {
      "needs_background": "light"
     },
     "output_type": "display_data"
    }
   ],
   "source": [
    "plt.plot(V,I)"
   ]
  },
  {
   "cell_type": "code",
   "execution_count": 59,
   "metadata": {},
   "outputs": [
    {
     "data": {
      "text/plain": [
       "dict_keys(['Start', 'Stop', 'Count', 'GroundType', 'Voltage', 'Current0', 'Current1', 'Current2', 'PhotoDiodeInitial', 'PhotoDiodeFinal'])"
      ]
     },
     "execution_count": 59,
     "metadata": {},
     "output_type": "execute_result"
    }
   ],
   "source": [
    "# packets['packets']['Sensor']['100'].keys()\n",
    "packets['packets']['Full']['100'].keys()"
   ]
  },
  {
   "cell_type": "code",
   "execution_count": 60,
   "metadata": {},
   "outputs": [],
   "source": [
    "#0 - Grounded to rocket\n",
    "#1 - Disconnected"
   ]
  },
  {
   "cell_type": "code",
   "execution_count": 61,
   "metadata": {},
   "outputs": [
    {
     "name": "stdout",
     "output_type": "stream",
     "text": [
      "dict_keys(['Start', 'Stop', 'Count', 'GroundType', 'Voltage', 'Current0', 'Current1', 'Current2', 'PhotoDiodeInitial', 'PhotoDiodeFinal'])\n",
      "0\n"
     ]
    }
   ],
   "source": [
    "sw = packets['packets']['Full']['360']\n",
    "print(sw.keys())\n",
    "print(sw['GroundType'])\n",
    "time = sw['Start']/1000\n",
    "\n",
    "V = sw['Voltage'][6:]\n",
    "I = -1 * np.array(sw['Current0'][6:])\n",
    "\n",
    "V1 = sw['Voltage'][6:128]\n",
    "I1 = -1 * np.array(sw['Current0'][6:128])\n",
    "\n",
    "V2 = sw['Voltage'][128:]\n",
    "I2 = -1 * np.array(sw['Current0'][128:])"
   ]
  },
  {
   "cell_type": "code",
   "execution_count": 62,
   "metadata": {},
   "outputs": [],
   "source": [
    "import scipy.optimize as optimize\n",
    "def gen_fit(x_raw,y_raw):\n",
    "    # x,y = data_processing(x_raw,y_raw)\n",
    "    x,y = x_raw, y_raw\n",
    "    # g = [0.6,-14,80, 5*(10**10),1000,-0.5]    #intial guess\n",
    "    b = ((-3,-np.inf,-np.inf,0,0,-3),(3,np.inf,np.inf,np.inf,10000,3)) #bounds\n",
    "    popt, pcov = optimize.curve_fit(model, x, y, bounds=b)\n",
    "    #print(popt)\n",
    "    max_1 = max(x)\n",
    "    min_1 = min(x)\n",
    "    t = np.linspace(min_1,max_1,num=60)\n",
    "    return t, model(t,*popt),popt,pcov #popt[0:xa,1:b,2:m1,3:n,4:t,5:V0]\n",
    "\n",
    "def model(x,xa,b,m1,n,t,V0):\n",
    "    #changed to be hopefully more effeicent\n",
    "    ret = np.zeros(len(x))\n",
    "    ret[x <= xa] = seg1(x[x <= xa],m1) - seg1(xa, m1) + b\n",
    "    ret[x > xa] = seg2(x[x > xa],n,t,V0) - seg2(xa,n,t,V0) + seg1(xa,m1) - seg1(xa, m1) + b\n",
    "    return ret\n",
    "\n",
    "def seg1(x,m):#linear--full model square root\n",
    "    return m * x\n",
    "\n",
    "def seg2(x,n,t,V0):# square root\n",
    "    q_e = 1.602 * 10**-19 #C                charge of an electron\n",
    "    K_b = 1.381 * 10**-23 #m^2*kg/(s^2*K)   boltzman constant\n",
    "    m_e = 9.109 * 10**-31 #kg               mass of an electron\n",
    "    R = (3./16.) * 0.0254 #radius of probe\n",
    "    L = (3.25) * 0.0254 #length of probe\n",
    "    A = 2. * np.pi * R * L + np.pi * (R ** 2) #area of probe cylinder with out a bottom\n",
    "\n",
    "    k = q_e / (K_b * t)\n",
    "    I0 =n * q_e * np.sqrt(K_b * t / (2. * np.pi * m_e)) * A / (10**-9)\n",
    "    return I0 * np.sqrt(1. + k*(x + V0))"
   ]
  },
  {
   "cell_type": "code",
   "execution_count": 63,
   "metadata": {},
   "outputs": [],
   "source": [
    "# \"\"\"\n",
    "# Created on March 25, 2023\n",
    "\n",
    "# @author: Josh Goodwill\n",
    "# \"\"\"\n",
    "\n",
    "# import numpy as np\n",
    "# from scipy.optimize import curve_fit\n",
    "\n",
    "# '''\n",
    "# def gen_fit(x, y):\n",
    "# Generates fit of linear and sqrt portion of IV arrays. Refer to\n",
    "# data_processing to idenify filtering of IV arrays. scipy.optimize.curve_fit\n",
    "# used to fit non-linear least squares to fit\n",
    "\n",
    "\n",
    "# input:\n",
    "# V_arr (array); Voltage array\n",
    "# I_arr (array); Current array\n",
    "# proc* (boolean); Whether to process the arrays for better fitting\n",
    "\n",
    "# output:\n",
    "# V_fit (np.array); linear space between min and max voltages from V_arr\n",
    "# model(t, *popt) (np.array); fitted model of I_arr using Voltage range and \n",
    "#                             pointer to popt\n",
    "# popt(array); optimal values for parameters\n",
    "#   V_f  (float) = popt[0]; floating potential\n",
    "#   m1   (float) = popt[1]; slope of linear fit\n",
    "#   b    (float) = popt[2]; y-intercept of linear fit\n",
    "#   a    (float) = popt[3]; multiplication factor of exponential fit\n",
    "#   ne   (float) = popt[4]; electron density [cm^{-3}]\n",
    "#   etemp(float) = popt[5]; electron temperature [K]\n",
    "#   VP   (float) = popt[6]; plasma potential [V]\n",
    "  \n",
    "# Intial guesses/[bounds]:\n",
    "#     V_f   = 0.3   ; [0: 0.5]\n",
    "#     m1    = 100   ; [-1000:1000]\n",
    "#     b     = 80    ; [-100:100]\n",
    "#     a     = 5     ; [0:100]\n",
    "#     ne    = 8*10^8; [0, np.inf]\n",
    "#     etemp = 1000  ; [0, 10000]\n",
    "#     VP    = 0.9   ; [0.5, 1.5]\n",
    "\n",
    "# pcov(2D np.array); covariance of popt array\n",
    "# '''\n",
    "\n",
    "# def gen_fit(V_arr, I_arr, proc = False):\n",
    "#     V_proc = []\n",
    "#     I_proc = []\n",
    "#     if proc == True:\n",
    "#         V_proc, I_proc = data_processing(V_arr, I_arr)\n",
    "#     else:\n",
    "#         V_proc, I_proc = V_arr, I_arr\n",
    "#     guess = [0.3, 0.9, 100, 80,  2,  8*(10**10), 1000]    #intial guess\n",
    "#     b = ((0, 0.5, -1000,-100, 0, 0, 0),(3, 1.5, 1000,100, 100, np.inf,10000)) #bounds\n",
    "\n",
    "#     # guess = [0.5, 100, 80, 1000, 0.5, 1]    #intial guess\n",
    "#     # b = ((0, -1000, -100, 0, 0, 0.5),(1, 1000, 100, 10000, 100, 3)) #bounds\n",
    "\n",
    "#     popt, pcov = curve_fit(model, V_proc, I_proc, bounds = b)\n",
    "#     # popt, pcov = curve_fit(model, V_proc, I_proc)\n",
    "#     V_fit = np.linspace(min(V_proc),max(V_proc), num = 300) #Voltage array processed for fit\n",
    "#     return V_fit, model(V_fit,*popt), popt, pcov\n",
    "\n",
    "# '''\n",
    "# def model(V_proc, VP, m1, b, ne, etemp, V0):\n",
    "# Model to fit ion, *transition*, electron saturation regions\n",
    "\n",
    "# input:\n",
    "# V_proc (np.array); processed V_arr for fitting\n",
    "# Vf (float); floating potential\n",
    "# m1 (float); slope of linear fit\n",
    "# b  (float); y-intercept of linear fit\n",
    "# ne (float); electron density [cm^{-2}]\n",
    "# etemp(float); electron temperature [K]\n",
    "# VP (float); plasma potential [V]\n",
    "# '''\n",
    "\n",
    "# def model(V_proc, Vf, VP, m1, b, a, ne, etemp):\n",
    "#     I_fit = np.zeros(len(V_proc))\n",
    "#     #Linear fit for ion saturation\n",
    "#     I_fit[V_proc <= Vf] = lin_fit(V_proc[V_proc <= Vf], m1, b)\n",
    "#     I1_cont =  -(exp_fit(Vf, a, etemp, Vf) + lin_fit(Vf, m1, b))\n",
    "#     #Exp fit for transition region\n",
    "#     # I_fit[(V_proc > Vf) & (V_proc <= VP)] = exp_fit(V_proc[(V_proc > Vf) & (V_proc <= VP)], a, etemp,  Vf) + I1_cont\n",
    "#     # I2_cont = -(exp_fit(VP, a, etemp,  Vf) + I1_cont)\n",
    "#     #Sqrt fit for electron saturation\n",
    "#     I_fit[V_proc > VP] = sqrt_fit(V_proc[V_proc > VP], ne, etemp ,VP) + I1_cont\n",
    "#     return I_fit\n",
    "\n",
    "# def lin_fit(x, m, y_int): #linear--full model square root\n",
    "#     return m * x + y_int\n",
    "\n",
    "# def exp_fit(x, a, etemp, Vf): #exponential fit\n",
    "#     q_e = 1.602 * 10**-19 #electron charge [C]\n",
    "#     K_b = 1.381 * 10**-23 #boltzman constant [m^2*kg/(s^2*K)]   \n",
    "#     k = q_e / (K_b * etemp)\n",
    "#     return a * np.exp(k * (x - Vf))\n",
    "\n",
    "# '''\n",
    "# def sqrt_fit(x, ne, etemp, V0)\n",
    "# Uses Eq. 1.4 and 1.5 of https://digitalcommons.usu.edu/etd/274\n",
    "\n",
    "# input:\n",
    "# x (np.array); V_proc [V]\n",
    "# ne (float); electron density [cm?]\n",
    "# etemp(float); electron temperature [K]\n",
    "# VP (float); negative plasma potential [V]\n",
    "\n",
    "# output:\n",
    "# I (float); current fit [nA]\n",
    "# '''\n",
    "# def sqrt_fit(x, ne, etemp, VP):# square root\n",
    "#     q_e = 1.602 * 10**-19 #electron charge [C]\n",
    "#     K_b = 1.381 * 10**-23 #boltzman constant [m^2*kg/(s^2*K)]   \n",
    "#     m_e = 9.109 * 10**-31 #electron mass [kg]              \n",
    "#     R = (3./16.) * 0.0254 #radius of probe [cm?]\n",
    "#     L = (3.25) * 0.0254 #length of probe [cm?]\n",
    "#     A = 2. * np.pi * R * L + np.pi * (R ** 2) #top and length area of cylinder [cm^2]\n",
    "\n",
    "#     k = q_e / (K_b * etemp)\n",
    "#     I0 = ne * q_e * np.sqrt(K_b * etemp / (2. * np.pi * m_e)) * A / (10**-9)\n",
    "#     return I0 * np.sqrt(1. + k*(x - VP))\n",
    "\n",
    "# '''\n",
    "# def data_processing(V, I)\n",
    "# Processes Voltage and Current arrays to reduce points for fitting algorithm.\n",
    "# Removes Voltage below -3 V and above first max of Current array\n",
    "\n",
    "# input:\n",
    "# V (np.array); Normal Voltage array\n",
    "# I (np.array); Normal Current array\n",
    "\n",
    "# output:\n",
    "# V_proc (np.array); processed Voltage array\n",
    "# I_proc (np.array); processed Current array\n",
    "# '''\n",
    "\n",
    "# def data_processing(V, I):\n",
    "#     Imax = np.argmax(I) #find index of maximum Current\n",
    "#     if (Imax.size != 1):\n",
    "#         Vmin_Imax = np.argmin(V[Imax]) #find lowest voltage value with max current\n",
    "#     else:\n",
    "#         Vmin_Imax = Imax\n",
    "#     V_rem = (V > -3) & (V < V[Vmin_Imax]) #array of voltages > -3V and < Vmin_Imax\n",
    "#     V_proc = V[V_rem]\n",
    "#     I_proc = I[V_rem]\n",
    "#     return V_proc, I_proc\n"
   ]
  },
  {
   "cell_type": "code",
   "execution_count": 64,
   "metadata": {},
   "outputs": [
    {
     "data": {
      "text/html": [
       "<div>\n",
       "<style scoped>\n",
       "    .dataframe tbody tr th:only-of-type {\n",
       "        vertical-align: middle;\n",
       "    }\n",
       "\n",
       "    .dataframe tbody tr th {\n",
       "        vertical-align: top;\n",
       "    }\n",
       "\n",
       "    .dataframe thead th {\n",
       "        text-align: right;\n",
       "    }\n",
       "</style>\n",
       "<table border=\"1\" class=\"dataframe\">\n",
       "  <thead>\n",
       "    <tr style=\"text-align: right;\">\n",
       "      <th></th>\n",
       "      <th>Unnamed: 0</th>\n",
       "      <th>Voltage</th>\n",
       "      <th>Current</th>\n",
       "    </tr>\n",
       "  </thead>\n",
       "  <tbody>\n",
       "    <tr>\n",
       "      <th>0</th>\n",
       "      <td>0</td>\n",
       "      <td>1.038123</td>\n",
       "      <td>-5.641496e-07</td>\n",
       "    </tr>\n",
       "    <tr>\n",
       "      <th>1</th>\n",
       "      <td>1</td>\n",
       "      <td>3.078812</td>\n",
       "      <td>-8.427419e-07</td>\n",
       "    </tr>\n",
       "    <tr>\n",
       "      <th>2</th>\n",
       "      <td>2</td>\n",
       "      <td>4.395161</td>\n",
       "      <td>-9.263196e-07</td>\n",
       "    </tr>\n",
       "    <tr>\n",
       "      <th>3</th>\n",
       "      <td>3</td>\n",
       "      <td>5.244868</td>\n",
       "      <td>-9.402493e-07</td>\n",
       "    </tr>\n",
       "    <tr>\n",
       "      <th>4</th>\n",
       "      <td>4</td>\n",
       "      <td>5.774194</td>\n",
       "      <td>-9.541789e-07</td>\n",
       "    </tr>\n",
       "  </tbody>\n",
       "</table>\n",
       "</div>"
      ],
      "text/plain": [
       "   Unnamed: 0   Voltage       Current\n",
       "0           0  1.038123 -5.641496e-07\n",
       "1           1  3.078812 -8.427419e-07\n",
       "2           2  4.395161 -9.263196e-07\n",
       "3           3  5.244868 -9.402493e-07\n",
       "4           4  5.774194 -9.541789e-07"
      ]
     },
     "execution_count": 64,
     "metadata": {},
     "output_type": "execute_result"
    }
   ],
   "source": [
    "import pandas as pd\n",
    "\n",
    "# Load the IV.csv file to inspect its structure and data\n",
    "file_path = 'IV.csv'\n",
    "iv_data = pd.read_csv(file_path)\n",
    "\n",
    "# Display the first few rows of the dataset to understand its structure\n",
    "iv_data.head()\n"
   ]
  },
  {
   "cell_type": "code",
   "execution_count": 65,
   "metadata": {},
   "outputs": [
    {
     "ename": "ValueError",
     "evalue": "operands could not be broadcast together with shapes (128,) (256,) ",
     "output_type": "error",
     "traceback": [
      "\u001b[0;31m---------------------------------------------------------------------------\u001b[0m",
      "\u001b[0;31mValueError\u001b[0m                                Traceback (most recent call last)",
      "\u001b[0;32m/var/folders/vd/xvmkswd51pn4d88fylf_g0kh0000gn/T/ipykernel_72448/311671497.py\u001b[0m in \u001b[0;36m<module>\u001b[0;34m\u001b[0m\n\u001b[1;32m     61\u001b[0m \u001b[0;34m\u001b[0m\u001b[0m\n\u001b[1;32m     62\u001b[0m \u001b[0;31m# Fit the curve\u001b[0m\u001b[0;34m\u001b[0m\u001b[0;34m\u001b[0m\u001b[0m\n\u001b[0;32m---> 63\u001b[0;31m \u001b[0mpopt\u001b[0m\u001b[0;34m,\u001b[0m \u001b[0mpcov\u001b[0m \u001b[0;34m=\u001b[0m \u001b[0mcurve_fit\u001b[0m\u001b[0;34m(\u001b[0m\u001b[0mmodel\u001b[0m\u001b[0;34m,\u001b[0m \u001b[0mvoltage\u001b[0m\u001b[0;34m,\u001b[0m \u001b[0mcurrent\u001b[0m\u001b[0;34m,\u001b[0m \u001b[0mguess\u001b[0m\u001b[0;34m,\u001b[0m \u001b[0mbounds\u001b[0m\u001b[0;34m=\u001b[0m\u001b[0mbounds\u001b[0m\u001b[0;34m)\u001b[0m\u001b[0;34m\u001b[0m\u001b[0;34m\u001b[0m\u001b[0m\n\u001b[0m\u001b[1;32m     64\u001b[0m \u001b[0;34m\u001b[0m\u001b[0m\n\u001b[1;32m     65\u001b[0m \u001b[0;31m# Generate fitted curve\u001b[0m\u001b[0;34m\u001b[0m\u001b[0;34m\u001b[0m\u001b[0m\n",
      "\u001b[0;32m~/opt/anaconda3/lib/python3.9/site-packages/scipy/optimize/minpack.py\u001b[0m in \u001b[0;36mcurve_fit\u001b[0;34m(f, xdata, ydata, p0, sigma, absolute_sigma, check_finite, bounds, method, jac, **kwargs)\u001b[0m\n\u001b[1;32m    798\u001b[0m             \u001b[0mkwargs\u001b[0m\u001b[0;34m[\u001b[0m\u001b[0;34m'max_nfev'\u001b[0m\u001b[0;34m]\u001b[0m \u001b[0;34m=\u001b[0m \u001b[0mkwargs\u001b[0m\u001b[0;34m.\u001b[0m\u001b[0mpop\u001b[0m\u001b[0;34m(\u001b[0m\u001b[0;34m'maxfev'\u001b[0m\u001b[0;34m,\u001b[0m \u001b[0;32mNone\u001b[0m\u001b[0;34m)\u001b[0m\u001b[0;34m\u001b[0m\u001b[0;34m\u001b[0m\u001b[0m\n\u001b[1;32m    799\u001b[0m \u001b[0;34m\u001b[0m\u001b[0m\n\u001b[0;32m--> 800\u001b[0;31m         res = least_squares(func, p0, jac=jac, bounds=bounds, method=method,\n\u001b[0m\u001b[1;32m    801\u001b[0m                             **kwargs)\n\u001b[1;32m    802\u001b[0m \u001b[0;34m\u001b[0m\u001b[0m\n",
      "\u001b[0;32m~/opt/anaconda3/lib/python3.9/site-packages/scipy/optimize/_lsq/least_squares.py\u001b[0m in \u001b[0;36mleast_squares\u001b[0;34m(fun, x0, jac, bounds, method, ftol, xtol, gtol, x_scale, loss, f_scale, diff_step, tr_solver, tr_options, jac_sparsity, max_nfev, verbose, args, kwargs)\u001b[0m\n\u001b[1;32m    818\u001b[0m         \u001b[0mx0\u001b[0m \u001b[0;34m=\u001b[0m \u001b[0mmake_strictly_feasible\u001b[0m\u001b[0;34m(\u001b[0m\u001b[0mx0\u001b[0m\u001b[0;34m,\u001b[0m \u001b[0mlb\u001b[0m\u001b[0;34m,\u001b[0m \u001b[0mub\u001b[0m\u001b[0;34m)\u001b[0m\u001b[0;34m\u001b[0m\u001b[0;34m\u001b[0m\u001b[0m\n\u001b[1;32m    819\u001b[0m \u001b[0;34m\u001b[0m\u001b[0m\n\u001b[0;32m--> 820\u001b[0;31m     \u001b[0mf0\u001b[0m \u001b[0;34m=\u001b[0m \u001b[0mfun_wrapped\u001b[0m\u001b[0;34m(\u001b[0m\u001b[0mx0\u001b[0m\u001b[0;34m)\u001b[0m\u001b[0;34m\u001b[0m\u001b[0;34m\u001b[0m\u001b[0m\n\u001b[0m\u001b[1;32m    821\u001b[0m \u001b[0;34m\u001b[0m\u001b[0m\n\u001b[1;32m    822\u001b[0m     \u001b[0;32mif\u001b[0m \u001b[0mf0\u001b[0m\u001b[0;34m.\u001b[0m\u001b[0mndim\u001b[0m \u001b[0;34m!=\u001b[0m \u001b[0;36m1\u001b[0m\u001b[0;34m:\u001b[0m\u001b[0;34m\u001b[0m\u001b[0;34m\u001b[0m\u001b[0m\n",
      "\u001b[0;32m~/opt/anaconda3/lib/python3.9/site-packages/scipy/optimize/_lsq/least_squares.py\u001b[0m in \u001b[0;36mfun_wrapped\u001b[0;34m(x)\u001b[0m\n\u001b[1;32m    813\u001b[0m \u001b[0;34m\u001b[0m\u001b[0m\n\u001b[1;32m    814\u001b[0m     \u001b[0;32mdef\u001b[0m \u001b[0mfun_wrapped\u001b[0m\u001b[0;34m(\u001b[0m\u001b[0mx\u001b[0m\u001b[0;34m)\u001b[0m\u001b[0;34m:\u001b[0m\u001b[0;34m\u001b[0m\u001b[0;34m\u001b[0m\u001b[0m\n\u001b[0;32m--> 815\u001b[0;31m         \u001b[0;32mreturn\u001b[0m \u001b[0mnp\u001b[0m\u001b[0;34m.\u001b[0m\u001b[0matleast_1d\u001b[0m\u001b[0;34m(\u001b[0m\u001b[0mfun\u001b[0m\u001b[0;34m(\u001b[0m\u001b[0mx\u001b[0m\u001b[0;34m,\u001b[0m \u001b[0;34m*\u001b[0m\u001b[0margs\u001b[0m\u001b[0;34m,\u001b[0m \u001b[0;34m**\u001b[0m\u001b[0mkwargs\u001b[0m\u001b[0;34m)\u001b[0m\u001b[0;34m)\u001b[0m\u001b[0;34m\u001b[0m\u001b[0;34m\u001b[0m\u001b[0m\n\u001b[0m\u001b[1;32m    816\u001b[0m \u001b[0;34m\u001b[0m\u001b[0m\n\u001b[1;32m    817\u001b[0m     \u001b[0;32mif\u001b[0m \u001b[0mmethod\u001b[0m \u001b[0;34m==\u001b[0m \u001b[0;34m'trf'\u001b[0m\u001b[0;34m:\u001b[0m\u001b[0;34m\u001b[0m\u001b[0;34m\u001b[0m\u001b[0m\n",
      "\u001b[0;32m~/opt/anaconda3/lib/python3.9/site-packages/scipy/optimize/minpack.py\u001b[0m in \u001b[0;36mfunc_wrapped\u001b[0;34m(params)\u001b[0m\n\u001b[1;32m    483\u001b[0m     \u001b[0;32mif\u001b[0m \u001b[0mtransform\u001b[0m \u001b[0;32mis\u001b[0m \u001b[0;32mNone\u001b[0m\u001b[0;34m:\u001b[0m\u001b[0;34m\u001b[0m\u001b[0;34m\u001b[0m\u001b[0m\n\u001b[1;32m    484\u001b[0m         \u001b[0;32mdef\u001b[0m \u001b[0mfunc_wrapped\u001b[0m\u001b[0;34m(\u001b[0m\u001b[0mparams\u001b[0m\u001b[0;34m)\u001b[0m\u001b[0;34m:\u001b[0m\u001b[0;34m\u001b[0m\u001b[0;34m\u001b[0m\u001b[0m\n\u001b[0;32m--> 485\u001b[0;31m             \u001b[0;32mreturn\u001b[0m \u001b[0mfunc\u001b[0m\u001b[0;34m(\u001b[0m\u001b[0mxdata\u001b[0m\u001b[0;34m,\u001b[0m \u001b[0;34m*\u001b[0m\u001b[0mparams\u001b[0m\u001b[0;34m)\u001b[0m \u001b[0;34m-\u001b[0m \u001b[0mydata\u001b[0m\u001b[0;34m\u001b[0m\u001b[0;34m\u001b[0m\u001b[0m\n\u001b[0m\u001b[1;32m    486\u001b[0m     \u001b[0;32melif\u001b[0m \u001b[0mtransform\u001b[0m\u001b[0;34m.\u001b[0m\u001b[0mndim\u001b[0m \u001b[0;34m==\u001b[0m \u001b[0;36m1\u001b[0m\u001b[0;34m:\u001b[0m\u001b[0;34m\u001b[0m\u001b[0;34m\u001b[0m\u001b[0m\n\u001b[1;32m    487\u001b[0m         \u001b[0;32mdef\u001b[0m \u001b[0mfunc_wrapped\u001b[0m\u001b[0;34m(\u001b[0m\u001b[0mparams\u001b[0m\u001b[0;34m)\u001b[0m\u001b[0;34m:\u001b[0m\u001b[0;34m\u001b[0m\u001b[0;34m\u001b[0m\u001b[0m\n",
      "\u001b[0;32m/var/folders/vd/xvmkswd51pn4d88fylf_g0kh0000gn/T/ipykernel_72448/311671497.py\u001b[0m in \u001b[0;36mmodel\u001b[0;34m(V, Vf, b, m, ne, te, V0)\u001b[0m\n\u001b[1;32m     26\u001b[0m \u001b[0;32mdef\u001b[0m \u001b[0mmodel\u001b[0m\u001b[0;34m(\u001b[0m\u001b[0mV\u001b[0m\u001b[0;34m,\u001b[0m \u001b[0mVf\u001b[0m\u001b[0;34m,\u001b[0m \u001b[0mb\u001b[0m\u001b[0;34m,\u001b[0m \u001b[0mm\u001b[0m\u001b[0;34m,\u001b[0m \u001b[0mne\u001b[0m\u001b[0;34m,\u001b[0m \u001b[0mte\u001b[0m\u001b[0;34m,\u001b[0m \u001b[0mV0\u001b[0m\u001b[0;34m)\u001b[0m\u001b[0;34m:\u001b[0m\u001b[0;34m\u001b[0m\u001b[0;34m\u001b[0m\u001b[0m\n\u001b[1;32m     27\u001b[0m     \u001b[0mI\u001b[0m \u001b[0;34m=\u001b[0m \u001b[0mnp\u001b[0m\u001b[0;34m.\u001b[0m\u001b[0mzeros\u001b[0m\u001b[0;34m(\u001b[0m\u001b[0mlen\u001b[0m\u001b[0;34m(\u001b[0m\u001b[0mV\u001b[0m\u001b[0;34m)\u001b[0m\u001b[0;34m)\u001b[0m\u001b[0;34m\u001b[0m\u001b[0;34m\u001b[0m\u001b[0m\n\u001b[0;32m---> 28\u001b[0;31m     \u001b[0mI\u001b[0m\u001b[0;34m[\u001b[0m\u001b[0mV\u001b[0m \u001b[0;34m<=\u001b[0m \u001b[0mVf\u001b[0m\u001b[0;34m]\u001b[0m \u001b[0;34m=\u001b[0m \u001b[0mlin\u001b[0m\u001b[0;34m(\u001b[0m\u001b[0mV\u001b[0m\u001b[0;34m[\u001b[0m\u001b[0mV\u001b[0m \u001b[0;34m<=\u001b[0m \u001b[0mVf\u001b[0m\u001b[0;34m]\u001b[0m\u001b[0;34m,\u001b[0m \u001b[0mm\u001b[0m\u001b[0;34m)\u001b[0m \u001b[0;34m-\u001b[0m \u001b[0mlin\u001b[0m\u001b[0;34m(\u001b[0m\u001b[0mV\u001b[0m\u001b[0;34m,\u001b[0m \u001b[0mm\u001b[0m\u001b[0;34m)\u001b[0m \u001b[0;34m+\u001b[0m \u001b[0mb\u001b[0m\u001b[0;34m\u001b[0m\u001b[0;34m\u001b[0m\u001b[0m\n\u001b[0m\u001b[1;32m     29\u001b[0m     \u001b[0mI\u001b[0m\u001b[0;34m[\u001b[0m\u001b[0mV\u001b[0m \u001b[0;34m>\u001b[0m \u001b[0mVf\u001b[0m\u001b[0;34m]\u001b[0m \u001b[0;34m=\u001b[0m \u001b[0msqrt\u001b[0m\u001b[0;34m(\u001b[0m\u001b[0mV\u001b[0m\u001b[0;34m[\u001b[0m\u001b[0mV\u001b[0m \u001b[0;34m>\u001b[0m \u001b[0mVf\u001b[0m\u001b[0;34m]\u001b[0m\u001b[0;34m,\u001b[0m \u001b[0mne\u001b[0m\u001b[0;34m,\u001b[0m \u001b[0mte\u001b[0m\u001b[0;34m,\u001b[0m \u001b[0mV0\u001b[0m\u001b[0;34m)\u001b[0m \u001b[0;34m-\u001b[0m \u001b[0msqrt\u001b[0m\u001b[0;34m(\u001b[0m\u001b[0mVf\u001b[0m\u001b[0;34m,\u001b[0m \u001b[0mne\u001b[0m\u001b[0;34m,\u001b[0m \u001b[0mte\u001b[0m\u001b[0;34m,\u001b[0m \u001b[0mV0\u001b[0m\u001b[0;34m)\u001b[0m \u001b[0;34m+\u001b[0m \u001b[0mlin\u001b[0m\u001b[0;34m(\u001b[0m\u001b[0mVf\u001b[0m\u001b[0;34m,\u001b[0m \u001b[0mm\u001b[0m\u001b[0;34m)\u001b[0m \u001b[0;34m-\u001b[0m \u001b[0mlin\u001b[0m\u001b[0;34m(\u001b[0m\u001b[0mVf\u001b[0m\u001b[0;34m,\u001b[0m \u001b[0mm\u001b[0m\u001b[0;34m)\u001b[0m \u001b[0;34m+\u001b[0m \u001b[0mb\u001b[0m\u001b[0;34m\u001b[0m\u001b[0;34m\u001b[0m\u001b[0m\n\u001b[1;32m     30\u001b[0m     \u001b[0;32mreturn\u001b[0m \u001b[0mI\u001b[0m\u001b[0;34m\u001b[0m\u001b[0;34m\u001b[0m\u001b[0m\n",
      "\u001b[0;31mValueError\u001b[0m: operands could not be broadcast together with shapes (128,) (256,) "
     ]
    }
   ],
   "source": [
    "import numpy as np\n",
    "import matplotlib.pyplot as plt\n",
    "from scipy.optimize import curve_fit\n",
    "\n",
    "# Extract Voltage and Current from the dataset\n",
    "voltage = iv_data[\"Voltage\"].values\n",
    "current = -iv_data[\"Current\"].values * 1e9\n",
    "\n",
    "# Define the model function (as fixed in the earlier script)\n",
    "# def model(V_proc, Vf, VP, m1, b, ne, etemp):\n",
    "#     I_fit = np.zeros(len(V_proc))\n",
    "#     I_fit[V_proc <= Vf] = lin_fit(V_proc[V_proc <= Vf], m1, b)\n",
    "#     I1_cont = -(exp_fit(Vf, ne, etemp, Vf) + lin_fit(Vf, m1, b))\n",
    "#     mask_transition = (V_proc > Vf) & (V_proc <= VP)\n",
    "#     I_fit[mask_transition] = exp_fit(V_proc[mask_transition], ne, etemp, Vf) + I1_cont\n",
    "#     I2_cont = exp_fit(VP, ne, etemp, Vf) + I1_cont\n",
    "#     I_fit[V_proc > VP] = sqrt_fit(V_proc[V_proc > VP], ne, etemp, VP) + I2_cont\n",
    "#     return I_fit\n",
    "\n",
    "# def model(V, Vf, b, m1, ne, etemp, V0):\n",
    "#     I_fit = np.zeros(len(V))\n",
    "#     I_fit[V <= Vf] = lin(V[V <= Vf], m1) - lin(Vf, m1) + b\n",
    "#     I_fit[V > Vf] = sqrt(V[V > Vf], ne, etemp, V0) - sqrt(Vf,ne,etemp,V0) + lin(Vf, m1) - lin(Vf,m1) + b\n",
    "#     return I_fit\n",
    "\n",
    "def model(V, Vf, b, m, ne, te, V0):\n",
    "    I = np.zeros(len(V))\n",
    "    I[V <= Vf] = lin(V[V <= Vf], m) - lin(V, m) + b\n",
    "    I[V > Vf] = sqrt(V[V > Vf], ne, te, V0) - sqrt(Vf, ne, te, V0) + lin(Vf, m) - lin(Vf, m) + b\n",
    "    return I\n",
    "\n",
    "# Supporting functions: lin_fit, exp_fit, sqrt_fit\n",
    "def lin(x, m1):\n",
    "    return m1 * x\n",
    "\n",
    "# def exp_fit(x, ne, etemp, Vf):\n",
    "#     q_e = 1.602e-19  # Electron charge [C]\n",
    "#     K_b = 1.381e-23  # Boltzmann constant [J/K]\n",
    "#     m_e = 9.109e-31  # Electron mass [kg]\n",
    "#     R = (3.0 / 16.0) * 2.54  # Radius of probe [cm]\n",
    "#     L = 3.25 * 2.54  # Length of probe [cm]\n",
    "#     A = 2.0 * np.pi * R * L + np.pi * (R ** 2)  # Surface area [cm^2]\n",
    "#     I0 = ne * q_e * np.sqrt(K_b * etemp / (2.0 * np.pi * m_e)) * A * 1e-9  # [nA]\n",
    "#     k = q_e / (K_b * etemp)\n",
    "#     return I0 * np.exp(k * (x - Vf))\n",
    "\n",
    "def sqrt(x, ne, etemp, V0):\n",
    "    q_e = 1.602e-19  # Electron charge [C]\n",
    "    K_b = 1.381e-23  # Boltzmann constant [J/K]\n",
    "    m_e = 9.109e-31  # Electron mass [kg]\n",
    "    R = (3.0 / 16.0) * 2.54  # Radius of probe [cm]\n",
    "    L = 3.25 * 2.54  # Length of probe [cm]\n",
    "    A = 2.0 * np.pi * R * L + np.pi * (R ** 2)  # Surface area [cm^2]\n",
    "    I0 = ne * q_e * np.sqrt(K_b * etemp / (2.0 * np.pi * m_e)) * A * 1e-9  # [nA]\n",
    "    k = q_e / (K_b * etemp)\n",
    "    return I0 * np.sqrt(1.0 + k * (x + V0))\n",
    "\n",
    "# Initial guesses and bounds for fitting\n",
    "guess = [0.6,-14,80, 5*(10**10),1000,-0.5]    #intial guess\n",
    "bounds = ((-3,-np.inf,-np.inf,0,0,-3),(3,np.inf,np.inf,np.inf,10000,3)) #bounds\n",
    "\n",
    "# Fit the curve\n",
    "popt, pcov = curve_fit(model, voltage, current, guess, bounds=bounds)\n",
    "\n",
    "# Generate fitted curve\n",
    "voltage_fit = np.linspace(min(voltage), max(voltage), 300)\n",
    "current_fit = model(voltage_fit, *popt)\n",
    "\n",
    "# Plot the results\n",
    "plt.figure(figsize=(10, 6))\n",
    "plt.scatter(voltage, current, label=\"Data\", color=\"blue\", s=10)\n",
    "plt.plot(voltage_fit, current_fit, label=\"Fit\", color=\"red\")\n",
    "plt.xlabel(\"Voltage (V)\")\n",
    "plt.ylabel(\"Current (nA)\")\n",
    "plt.title(\"IV Curve Fit\")\n",
    "plt.legend()\n",
    "plt.grid()\n",
    "plt.show()\n"
   ]
  },
  {
   "cell_type": "code",
   "execution_count": 20,
   "metadata": {},
   "outputs": [
    {
     "name": "stdout",
     "output_type": "stream",
     "text": [
      "[6.310483870967744, 6.401026392961878, 6.442815249266861, 6.4219208211143695, 6.373167155425222, 6.310483870967744, 6.247800586510266, 6.164222873900293, 6.066715542521994, 5.97617302052786, 5.885630498533725, 5.781158357771261, 5.6766862170088, 5.579178885630501, 5.467741935483872, 5.370234604105573, 5.265762463343108, 5.154325513196483, 5.063782991202348, 4.945381231671554, 4.85483870967742, 4.743401759530791, 4.63892961876833, 4.527492668621704, 4.4299853372434015, 4.318548387096776, 4.2210410557184765, 4.116568914956012, 4.012096774193552, 3.921554252199414, 3.8170821114369495, 3.698680351906159, 3.6011730205278596, 3.4897360703812303, 3.392228739002933, 3.2877565982404686, 3.183284457478006, 3.0718475073313805, 2.967375366568916, 2.87683284457478, 2.7584310850439895, 2.660923753665692, 2.549486803519061, 2.4450146627565985, 2.3405425219941343, 2.2291055718475086, 2.1315982404692093, 2.020161290322582, 1.9156891495601176, 1.8181818181818201, 1.7137096774193559, 1.6022727272727266, 1.490835777126101, 1.3793988269794717, 1.2818914956011742, 1.1704545454545467, 1.0729472140762457, 0.9615102639296182, 0.8709677419354858, 0.7664956011730215, 0.668988269794724, 0.5645161290322598, 0.46004398826979553, 0.35557184750733306, 0.25806451612903203, 0.13966275659824134, 0.04215542521994209, -0.06928152492668538, -0.16678885630498463, -0.2712609970674489, -0.37573313782991136, -0.4732404692082106, -0.5777126099706749, -0.6752199413489741, -0.7796920821114366, -0.8841642228738991, -0.9816715542521983, -1.1000733137829908, -1.2045454545454533, -1.3020527859237525, -1.4134897360703818, -1.5109970674486792, -1.6154692082111417, -1.719941348973606, -1.8244134897360702, -1.9288856304985327, -2.033357771260997, -2.1378299120234594, -2.2423020527859236, -2.346774193548388, -2.437316715542522, -2.555718475073313, -2.660190615835777, -2.7576979472140764, -2.876099706744867, -2.9875366568914945, -3.0780791788856305, -3.182551319648093, -3.2870234604105573, -3.3775659824046915, -3.489002932551319, -3.5865102639296182, -3.711876832844574, -3.80241935483871, -3.8999266862170074, -4.011363636363636, -4.108870967741936, -4.206378299120233, -4.317815249266861, -4.429252199413488, -4.5267595307917885, -4.64516129032258, -4.742668621700879, -4.847140762463344, -4.944648093841641, -5.049120234604105, -5.153592375366569, -5.265029325513196, -5.3695014662756595, -5.473973607038124, -5.571480938416421, -5.682917888563049, -5.773460410557185, -5.857038123167155, -5.864002932551319, -5.850073313782991, -5.794354838709676, -5.738636363636363, -5.662023460410557, -5.564516129032257, -5.467008797653959, -5.376466275659824, -5.27199413489736, -5.174486803519061, -5.076979472140763, -4.9794721407624625, -4.875, -4.777492668621701, -4.666055718475073, -4.56158357771261, -4.4501466275659824, -4.345674486803518, -4.241202346041055, -4.143695014662756, -4.039222873900293, -3.941715542521994, -3.8372434017595296, -3.732771260997067, -3.6213343108504397, -3.516862170087977, -3.419354838709676, -3.3079178885630505, -3.203445747800586, -3.105938416422287, -3.0014662756598245, -2.8969941348973602, -2.7925219941348978, -2.6950146627565967, -2.5905425219941343, -2.479105571847507, -2.3885630498533708, -2.2910557184750733, -2.165689149560116, -2.0751466275659816, -1.963709677419354, -1.8522727272727266, -1.7478005865102642, -1.664222873900293, -1.5388563049853374, -1.4413489736070382, -1.3229472140762457, -1.2254398826979465, -1.114002932551319, -1.0095307917888565, -0.9189882697947205, -0.8214809384164212, -0.7100439882697938, -0.6125366568914963, -0.508064516129032, -0.4035923753665678, -0.3060850439882703, -0.20161290322580605, -0.08321114369501359, 0.007331378299120672, 0.10483870967741993, 0.2162756598240474, 0.32771260997067486, 0.4321847507331391, 0.5436217008797666, 0.648093841642229, 0.7316715542522001, 0.8291788856304976, 0.9266862170088004, 1.038123167155426, 1.1565249266862168, 1.260997067448681, 1.3654692082111435, 1.4629765395894445, 1.5674486803519052, 1.6788856304985345, 1.7833577712609987, 1.873900293255133, 1.9992668621700886, 2.103739002932551, 2.201246334310852, 2.305718475073313, 2.417155425219942, 2.5076979472140764, 2.6260997067448706, 2.7305718475073313, 2.8350439882697955, 2.932551319648095, 3.0439882697947205, 3.1484604105571847, 3.252932551319649, 3.3574046920821115, 3.468841642228739, 3.573313782991203, 3.6708211143695024, 3.782258064516128, 3.8867302052785924, 3.9842375366568916, 4.081744868035194, 4.186217008797655, 4.276759530791789, 4.402126099706745, 4.499633431085044, 4.61107038123167, 4.715542521994138, 4.8269794721407635, 4.931451612903228, 5.028958944281527, 5.133431085043991, 5.244868035190617, 5.342375366568916, 5.446847507331377, 5.55828445747801, 5.66275659824047, 5.767228739002935, 5.864736070381234, 5.96224340175953, 6.059750733137832, 6.178152492668623, 6.275659824046919, 6.380131964809387, 6.498533724340177, 6.5960410557184765, 6.693548387096776, 6.79802052785924, 6.902492668621701]\n"
     ]
    }
   ],
   "source": [
    "print(V)"
   ]
  },
  {
   "cell_type": "code",
   "execution_count": null,
   "metadata": {},
   "outputs": [],
   "source": []
  }
 ],
 "metadata": {
  "kernelspec": {
   "display_name": "base",
   "language": "python",
   "name": "python3"
  },
  "language_info": {
   "codemirror_mode": {
    "name": "ipython",
    "version": 3
   },
   "file_extension": ".py",
   "mimetype": "text/x-python",
   "name": "python",
   "nbconvert_exporter": "python",
   "pygments_lexer": "ipython3",
   "version": "3.9.7"
  }
 },
 "nbformat": 4,
 "nbformat_minor": 2
}

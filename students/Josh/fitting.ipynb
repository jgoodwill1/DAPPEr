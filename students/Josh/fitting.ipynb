{
 "cells": [
  {
   "cell_type": "code",
   "execution_count": 1,
   "metadata": {},
   "outputs": [],
   "source": [
    "# from pckt import *\n",
    "path = '~/DAPPEr/data/UDIP4/json/UDIP_4_800s.json'"
   ]
  },
  {
   "cell_type": "code",
   "execution_count": 2,
   "metadata": {},
   "outputs": [],
   "source": [
    "import numpy as np\n",
    "import os\n",
    "import json\n",
    "import pandas as pd\n",
    "import matplotlib.pyplot as plt\n",
    "\n",
    "class pck:\n",
    "    def __init__(self, path, num, sw_type):\n",
    "        self.path = path\n",
    "        self.num = num\n",
    "        self.sw_type = sw_type\n",
    "        data = pd.read_json(path)\n",
    "        data = data['packets'][sw_type][f'{self.num}']\n",
    "        self.data = data\n",
    "        self.start = data['Start']/1000\n",
    "        self.stop  = data['Stop']/1000\n",
    "        self.grnd = data['GroundType']\n",
    "        self.iv = pd.DataFrame({\n",
    "                    'V': np.array(self.data['Voltage'][6:]), \n",
    "                    'I0': -np.array(self.data['Current0'][6:]) * 10**9, \n",
    "                    'I1': -np.array(self.data['Current1'][6:]) * 10**9, \n",
    "                    'I2': -np.array(self.data['Current2'][6:]) * 10**9\n",
    "                    })\n",
    "    def VP(self):\n",
    "        self.iv['dI_dV'] = np.abs(self.iv['I0'].diff())\n",
    "        ind = self.iv['dI_dV'].argmax()\n",
    "        return self.iv['V'][ind]\n",
    "    def Vf(self):\n",
    "        sign = np.where((np.diff(np.sign(self.iv['I0'])) !=0))[0]\n",
    "        low = np.argmin(np.abs(self.iv['V'][sign]))\n",
    "        Vf = self.iv['V'][sign[low]]\n",
    "        return Vf"
   ]
  },
  {
   "cell_type": "code",
   "execution_count": 3,
   "metadata": {},
   "outputs": [],
   "source": [
    "# import numpy as np\n",
    "# import matplotlib.pyplot as plt\n",
    "# from scipy import optimize\n",
    "\n",
    "# #fitting and helper functions\n",
    "\n",
    "# def gen_fit(x_raw,y_raw):\n",
    "#     x,y = data_processing(x_raw,y_raw)\n",
    "#     # x,y = x_raw, y_raw\n",
    "#     g = [2, 2, -14, 80, 5*(10**10), 700 ]    #intial guess\n",
    "#     b = [\n",
    "#         (-3,   2, -1000, -1000, 0     , 0    ),\n",
    "#         ( 3,   5,  1000,  1000, 5*(10**15), 5000 )\n",
    "#         ] #bounds\n",
    "#     popt, pcov = optimize.curve_fit(model,x,y,g,bounds=b)\n",
    "#     max_1 = np.max(x)\n",
    "#     min_1 = np.min(x)\n",
    "#     t = np.linspace(min_1,max_1,num=1000)\n",
    "#     return t, model(t,*popt),popt,pcov #popt[0:V0,1:Vp,2:b,3:m1,4:n,5:Te]\n",
    "\n",
    "# def model(V, V0, VP,  b, m1, ne, te):\n",
    "#     I = np.zeros(len(V))\n",
    "#     I[V <= VP] = lin(V[V <= VP], m1) - lin(VP, m1) + b\n",
    "#     Vtrans = (V > VP)\n",
    "#     # I[Vtrans] = exp(V[Vtrans], ne, te, VP) + b\n",
    "#     I[V >  VP] = sqrt(V[V >  VP], ne, te, V0) - sqrt(VP, ne, te, V0) + b\n",
    "#     return I\n",
    "\n",
    "# def lin(x, m):#linear--full model square root\n",
    "#     return m * x\n",
    "\n",
    "# # def exp(x, ne, te, V1):\n",
    "# #     q_e = 1.602e-19  # Electron charge [C]\n",
    "# #     K_b = 1.381e-23  # Boltzmann constant [J/K]\n",
    "# #     m_e = 9.109e-31  # Electron mass [kg]\n",
    "# #     R = (3.0 / 16.0) * 2.54  # Radius of probe [cm]\n",
    "# #     L = 3.25 * 2.54  # Length of probe [cm]\n",
    "# #     A = 2.0 * np.pi * R * L + np.pi * (R ** 2)  # Surface area [cm^2]\n",
    "# #     I0 = ne * q_e * np.sqrt(K_b * te/ (2.0 * np.pi * m_e)) * A * 1e-9  # [nA]\n",
    "# #     k = q_e / (K_b * te)\n",
    "# #     return I0 * np.exp(k * (x - V1))\n",
    "\n",
    "# def sqrt(x,n,t,V0):# square root\n",
    "#     q_e = 1.602 * 10**-19 #C                charge of an electron\n",
    "#     K_b = 1.381 * 10**-23 #m^2*kg/(s^2*K)   boltzmann constant\n",
    "#     m_e = 9.109 * 10**-31 #kg               mass of an electron\n",
    "#     R = (3./16.) * 0.0254 #radius of probe\n",
    "#     L = (3.25) * 0.0254 #length of probe\n",
    "#     A = 2. * np.pi * R * L + np.pi * (R ** 2) #area of probe cylinder with out a bottom\n",
    "\n",
    "#     k = q_e / (K_b * t)\n",
    "#     I0 =n * q_e * np.sqrt(K_b * t / (2. * np.pi * m_e)) * A / (10**-9)\n",
    "#     return I0 * np.sqrt(1.0 + k*(x - V0))\n",
    "\n",
    "# def data_processing(x_raw,y_raw):#remove data points below -2 and above the peak to reduce datapoints going to the fitting routine\n",
    "#     x = np.nan_to_num(x_raw, nan=0.0)\n",
    "#     y = np.nan_to_num(y_raw, nan=0.0)\n",
    "# #     x = x[6:]\n",
    "# #     y = y[6:]\n",
    "#     return x,y"
   ]
  },
  {
   "cell_type": "code",
   "execution_count": null,
   "metadata": {},
   "outputs": [],
   "source": [
    "\"\"\"\n",
    "Created on March 25, 2023\n",
    "\n",
    "@author: Josh Goodwill\n",
    "\"\"\"\n",
    "\n",
    "import numpy as np\n",
    "from scipy.optimize import curve_fit\n",
    "\n",
    "'''\n",
    "def gen_fit(x, y):\n",
    "Generates fit of linear and sqrt portion of IV arrays. Refer to\n",
    "data_processing to identify filtering of IV arrays. scipy.optimize.curve_fit\n",
    "used to fit non-linear least squares to fit\n",
    "\n",
    "\n",
    "input:\n",
    "V_arr (array); Voltage array\n",
    "I_arr (array); Current array\n",
    "proc* (boolean); Whether to process the arrays for better fitting\n",
    "\n",
    "output:\n",
    "V_fit (np.array); linear space between min and max voltages from V_arr\n",
    "model(t, *popt) (np.array); fitted model of I_arr using Voltage range and \n",
    "                            pointer to popt\n",
    "popt(array); optimal values for parameters\n",
    "V0   (float) = popt[0]; floating potential [V]\n",
    "VP   (float) = popt[1]; plasma potential [V]\n",
    "m1   (float) = popt[2]; slope of linear fit\n",
    "b    (float) = popt[3]; y-intercept of linear fit\n",
    "ne   (float) = popt[4]; electron density [cm^{-3}]\n",
    "Te   (float) = popt[5]; electron temperature [K]\n",
    "\n",
    "\n",
    "Intial guesses/[bounds]:\n",
    "    V0    = 2.0         ;       [-3         :           3]\n",
    "    VP    = 2.0         ;       [2          :           5]\n",
    "    m1    = 10          ;       [-1000      :        1000]\n",
    "    y_int = 80          ;       [-1000      :        1000]\n",
    "    ne    = 5*10^10     ;       [5          :  5*(10**15)]\n",
    "    Te    = 700         ;       [0          :        5000]\n",
    "\n",
    "pcov(2D np.array); covariance of popt array\n",
    "'''\n",
    "\n",
    "def gen_fit(V_arr, I_arr, proc = False):\n",
    "    V_proc = []\n",
    "    I_proc = []\n",
    "    if proc == True:\n",
    "        V_proc, I_proc = data_processing(V_arr, I_arr)\n",
    "    else:\n",
    "        V_proc, I_proc = V_arr, I_arr\n",
    "    g = [ 2,   2,    10,    80, 5*(10**10),   700]    #intial guess\n",
    "    b = [\n",
    "        (-3,   2, -1000, -1000,  5*(10**1),     0),\n",
    "        ( 3,   5,  1000,  1000, 5*(10**15),  5000)\n",
    "        ] #bounds\n",
    "    popt, pcov = curve_fit(model,V_proc, I_proc, g, bounds=b)\n",
    "    V_fit = np.linspace(min(V_proc),max(V_proc), num = 300) #Voltage array processed for fit\n",
    "    return V_fit, model(V_fit,*popt), popt, pcov\n",
    "\n",
    "'''\n",
    "def model(V_proc, VP, m1, y_int, ne, Te, V0):\n",
    "Model to fit ion, *transition*, electron saturation regions\n",
    "\n",
    "input:\n",
    "V_proc (np.array); processed V_arr for fitting\n",
    "V0 \n",
    "VP (float); plasma potential [V]\n",
    "m1 (float); slope of linear fit\n",
    "b  (float); y-intercept of linear fit\n",
    "ne (float); electron density [cm^{-3}]\n",
    "Te(float); electron temperature [K]\n",
    "\n",
    "'''\n",
    "\n",
    "def model(V, V0, VP,  y_int, m1, ne, Te):\n",
    "    I = np.zeros(len(V))\n",
    "    I[V <= VP] = lin(V[V <= VP], m1, y_int) - lin(VP, m1, y_int)\n",
    "    # Vtrans = (V > VP)\n",
    "    # I[Vtrans] = exp(V[Vtrans], ne, te, VP) + b\n",
    "    I[V >  VP] = sqrt(V[V >  VP], ne, Te, V0) - sqrt(VP, ne, Te, V0) + y_int\n",
    "    return I\n",
    "\n",
    "def lin(x, m, y_int): #linear--full model square root\n",
    "    return m * x + y_int\n",
    "\n",
    "# def exp_fit(x, a, etemp, Vf): #exponential fit\n",
    "#     q_e = 1.602 * 10**-19 #electron charge [C]\n",
    "#     K_b = 1.381 * 10**-23 #boltzmann constant [m^2*kg/(s^2*K)]   \n",
    "#     k = q_e / (K_b * Te)\n",
    "#     return a * np.exp(k * (x - Vf))\n",
    "\n",
    "'''\n",
    "def sqrt_fit(x, ne, Te, V0)\n",
    "Uses Eq. 1.4 and 1.5 of https://digitalcommons.usu.edu/etd/274\n",
    "\n",
    "input:\n",
    "x (np.array); V_proc [V]\n",
    "ne (float); electron density [cm^{-3}]\n",
    "Te(float) ; electron temperature [K]\n",
    "V0 (float); plasma potential [V]\n",
    "\n",
    "output:\n",
    "I (float); current fit [nA]\n",
    "'''\n",
    "def sqrt(x, ne, Te, V0):# square root\n",
    "    q_e = 1.602 * 10**-19 #electron charge [C]\n",
    "    K_b = 1.381 * 10**-23 #boltzmann constant [m^2*kg/(s^2*K)]   \n",
    "    m_e = 9.109 * 10**-31 #electron mass [kg]              \n",
    "    R = (3./16.) * 0.0254 #radius of probe [cm?]\n",
    "    L = (3.25) * 0.0254 #length of probe [cm?]\n",
    "    A = 2. * np.pi * R * L + np.pi * (R ** 2) #top and length area of cylinder [cm^2]\n",
    "\n",
    "    k = q_e / (K_b * Te)\n",
    "    I0 = ne * q_e * np.sqrt(K_b * Te / (2. * np.pi * m_e)) * A / (10**-9)\n",
    "    return I0 * np.sqrt(1. + k*(x - V0))\n",
    "\n",
    "'''\n",
    "def data_processing(V, I)\n",
    "Processes Voltage and Current arrays for fitting algorithm.\n",
    "Removes nan values and sets them to 0.\n",
    "\n",
    "input:\n",
    "V (np.array); Normal Voltage array [V]\n",
    "I (np.array); Normal Current array [nA]\n",
    "\n",
    "output:\n",
    "V_proc (np.array); processed Voltage array\n",
    "I_proc (np.array); processed Current array\n",
    "'''\n",
    "\n",
    "def data_processing(V, I):#remove data points below -2 and above the peak to reduce datapoints going to the fitting routine\n",
    "    V_proc = np.nan_to_num(x_raw, nan=0.0)\n",
    "    I_proc = np.nan_to_num(y_raw, nan=0.0)\n",
    "    return V_proc, I_proc"
   ]
  },
  {
   "cell_type": "code",
   "execution_count": 77,
   "metadata": {},
   "outputs": [],
   "source": [
    "dat = pck(path, 0, 'Dense')\n",
    "iv = dat.iv"
   ]
  },
  {
   "cell_type": "code",
   "execution_count": null,
   "metadata": {},
   "outputs": [],
   "source": []
  },
  {
   "cell_type": "code",
   "execution_count": 80,
   "metadata": {},
   "outputs": [
    {
     "name": "stdout",
     "output_type": "stream",
     "text": [
      "250\n",
      "[6.27637373e-01 2.03447419e+00 6.00652612e+01 6.61858234e+00\n",
      " 2.46452742e+10 2.03459941e+03]\n"
     ]
    },
    {
     "data": {
      "image/png": "[encoded data removed]",
      "text/plain": [
       "<Figure size 640x480 with 1 Axes>"
      ]
     },
     "metadata": {},
     "output_type": "display_data"
    }
   ],
   "source": [
    "ne = np.array([])\n",
    "Te = np.array([])\n",
    "for sw in np.arange(250, 251):\n",
    "    dat = pck(path, sw, 'Full')\n",
    "    iv = dat.iv\n",
    "    plt.plot(iv['V'], iv['I0'])\n",
    "    print(sw)\n",
    "    t, fit, popt, pcov = gen_fit(iv['V'], iv['I0'])\n",
    "    plt.plot(t, fit)\n",
    "    ne, Te = np.append(ne, popt[4]), np.append(Te, popt[5])\n",
    "print(popt)"
   ]
  },
  {
   "cell_type": "code",
   "execution_count": null,
   "metadata": {},
   "outputs": [],
   "source": []
  },
  {
   "cell_type": "code",
   "execution_count": 7,
   "metadata": {},
   "outputs": [
    {
     "data": {
      "text/plain": [
       "[<matplotlib.lines.Line2D at 0x146fb7f9e970>]"
      ]
     },
     "execution_count": 7,
     "metadata": {},
     "output_type": "execute_result"
    },
    {
     "data": {
      "image/png": "[encoded data removed]",
      "text/plain": [
       "<Figure size 640x480 with 1 Axes>"
      ]
     },
     "metadata": {},
     "output_type": "display_data"
    }
   ],
   "source": [
    "plt.plot(ne)"
   ]
  },
  {
   "cell_type": "code",
   "execution_count": 8,
   "metadata": {},
   "outputs": [
    {
     "data": {
      "text/plain": [
       "[<matplotlib.lines.Line2D at 0x146fab49d1c0>]"
      ]
     },
     "execution_count": 8,
     "metadata": {},
     "output_type": "execute_result"
    },
    {
     "data": {
      "image/png": "[encoded data removed]",
      "text/plain": [
       "<Figure size 640x480 with 1 Axes>"
      ]
     },
     "metadata": {},
     "output_type": "display_data"
    }
   ],
   "source": [
    "plt.plot(Te)"
   ]
  },
  {
   "cell_type": "code",
   "execution_count": null,
   "metadata": {},
   "outputs": [],
   "source": []
  }
 ],
 "metadata": {
  "kernelspec": {
   "display_name": "Python 3",
   "language": "python",
   "name": "python3"
  },
  "language_info": {
   "codemirror_mode": {
    "name": "ipython",
    "version": 3
   },
   "file_extension": ".py",
   "mimetype": "text/x-python",
   "name": "python",
   "nbconvert_exporter": "python",
   "pygments_lexer": "ipython3",
   "version": "3.9.18"
  }
 },
 "nbformat": 4,
 "nbformat_minor": 2
}

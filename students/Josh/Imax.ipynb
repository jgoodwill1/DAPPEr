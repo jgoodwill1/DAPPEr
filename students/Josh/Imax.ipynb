{
 "cells": [
  {
   "cell_type": "code",
   "execution_count": 3,
   "metadata": {},
   "outputs": [],
   "source": [
    "import numpy as np"
   ]
  },
  {
   "cell_type": "code",
   "execution_count": 8,
   "metadata": {},
   "outputs": [],
   "source": [
    "R1 = 1.5\n",
    "A1 = 4 * np.pi * R1**22\n",
    "l = 34; w = 10; h = 10\n",
    "ACube = 2 *(w*l + h*l + h * w)\n",
    "ACube/A1\n",
    "Ne = 1.17 * 10**(6)\n",
    "Te = 2800\n",
    "qe = 1.602*10**(-19)\n",
    "Kb = 1.381*10**(-23)\n",
    "me = 9.109*10**(-31)\n",
    "Ieth = Ne * qe * A1 * np.sqrt(Kb * Te /(2 * np.pi * me))\n",
    "Ie = Ieth * np.exp(qe * 1/(Kb * Te)) * 10**9\n",
    "NeM = 1 * 10**6\n",
    "TeM = 2500\n",
    "NeMin = 3 * 10**6\n",
    "TeMin = 1700\n",
    "IthM = NeM * qe * A1 * np.sqrt(Kb * TeM / (2 * np.pi * me))\n",
    "Imax =  IthM * np.exp(qe *2/(Kb * TeMin))*10**9\n",
    "IthMin = NeMin * qe * A1 * np.sqrt(Kb * TeMin / (2 * np.pi * me))\n",
    "Imin =  IthMin * np.exp(qe * 2/(Kb * TeM))*10**9"
   ]
  },
  {
   "cell_type": "code",
   "execution_count": null,
   "metadata": {},
   "outputs": [],
   "source": []
  }
 ],
 "metadata": {
  "kernelspec": {
   "display_name": "base",
   "language": "python",
   "name": "python3"
  },
  "language_info": {
   "codemirror_mode": {
    "name": "ipython",
    "version": 3
   },
   "file_extension": ".py",
   "mimetype": "text/x-python",
   "name": "python",
   "nbconvert_exporter": "python",
   "pygments_lexer": "ipython3",
   "version": "3.9.7"
  }
 },
 "nbformat": 4,
 "nbformat_minor": 2
}

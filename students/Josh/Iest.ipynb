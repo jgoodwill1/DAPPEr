{
 "cells": [
  {
   "cell_type": "code",
   "execution_count": 3,
   "metadata": {},
   "outputs": [],
   "source": [
    "import numpy as np\n",
    "import RockSat_json.RockSat_json as RockSat_json\n",
    "import Fitting.RockSat_1_14_fitting_functions as R_fitting\n",
    "import json\n",
    "# import Fitting.RockSat_1_14_fitting_functions\n",
    "# import base.operations\n",
    "import UDIP_Lib.UDIP_4_Lib_V2\n",
    "import pandas as pd\n",
    "import numpy as np\n",
    "import matplotlib.pyplot as plt\n",
    "import matplotlib\n",
    "matplotlib.rcParams.update({'font.size': 22})"
   ]
  },
  {
   "cell_type": "code",
   "execution_count": 64,
   "metadata": {},
   "outputs": [],
   "source": [
    "R1 = 1.5\n",
    "A1 = 4 * np.pi * R1**2\n",
    "l = 34; w = 10; h = 10\n",
    "ACube = 2 *(w*l + h*l + h * w)\n",
    "ACube/A1\n",
    "\n",
    "Ne = 1.17 * 10**(6)\n",
    "Te = 2800\n",
    "qe = 1.602*10**(-19)\n",
    "Kb = 1.381*10**(-23)\n",
    "me = 9.109*10**(-31)"
   ]
  },
  {
   "cell_type": "code",
   "execution_count": 86,
   "metadata": {},
   "outputs": [
    {
     "name": "stdout",
     "output_type": "stream",
     "text": [
      "435.603464685514\n",
      "3892.7977490921694\n"
     ]
    }
   ],
   "source": [
    "Ith = Ne * qe * A1 * np.sqrt(Kb * Te /(2 * np.pi * me))\n",
    "Ie = Ith * (1 + np.exp(qe * 0.5/(Kb * Te))) * 10**9\n",
    "\n",
    "print(Ith * 10**9)\n",
    "print(Ie)"
   ]
  },
  {
   "cell_type": "code",
   "execution_count": 234,
   "metadata": {},
   "outputs": [],
   "source": [
    "NeN = 1 * 10**6\n",
    "TeN = 1100\n",
    "\n",
    "NeD = 3 * 10**6\n",
    "TeD = 1700\n",
    "\n",
    "IthN = NeN * qe * A1 * np.sqrt(Kb * TeN / (2 * np.pi * me))\n",
    "IN =  IthN * (1 + (qe * 10/(Kb * TeN)))*10**6\n",
    "\n",
    "IthD = NeD * qe * A1 * np.sqrt(Kb * TeD/ (2 * np.pi * me))\n",
    "ID =  IthD * (1 + (qe * 10/(Kb * TeD)))*10**6"
   ]
  },
  {
   "cell_type": "code",
   "execution_count": 235,
   "metadata": {},
   "outputs": [
    {
     "name": "stdout",
     "output_type": "stream",
     "text": [
      "0.23335805187057423\n",
      "24.842639804004072\n"
     ]
    }
   ],
   "source": [
    "print(IthN * 10**6)\n",
    "print(IN)"
   ]
  },
  {
   "cell_type": "code",
   "execution_count": 236,
   "metadata": {},
   "outputs": [
    {
     "name": "stdout",
     "output_type": "stream",
     "text": [
      "0.8703063722329956\n",
      "60.25740047783673\n"
     ]
    }
   ],
   "source": [
    "print(IthD * 10**6)\n",
    "print(ID)"
   ]
  }
 ],
 "metadata": {
  "kernelspec": {
   "display_name": "base",
   "language": "python",
   "name": "python3"
  },
  "language_info": {
   "codemirror_mode": {
    "name": "ipython",
    "version": 3
   },
   "file_extension": ".py",
   "mimetype": "text/x-python",
   "name": "python",
   "nbconvert_exporter": "python",
   "pygments_lexer": "ipython3",
   "version": "3.9.7"
  }
 },
 "nbformat": 4,
 "nbformat_minor": 2
}

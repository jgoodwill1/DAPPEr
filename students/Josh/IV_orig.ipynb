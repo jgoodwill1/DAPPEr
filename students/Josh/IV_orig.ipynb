{
 "cells": [
  {
   "cell_type": "code",
   "execution_count": 29,
   "metadata": {},
   "outputs": [],
   "source": [
    "\"\"\"\n",
    "Created on July 31 12:53:14 2021\n",
    "\n",
    "@author: Calvin Adkins\n",
    "\"\"\"\n",
    "######consider a median filter, ###later on maybe check on data in other gains\n",
    "import numpy as np\n",
    "import matplotlib.pyplot as plt\n",
    "from scipy import optimize\n",
    "\n",
    "#fitting and helper functions\n",
    "\n",
    "def gen_fit(x_raw,y_raw):\n",
    "    x,y = x_raw, y_raw\n",
    "    g = [0.6,-14,80, 5*(10**10),1000,-0.5]    #intial guess\n",
    "    b = ((-3,-np.inf,-np.inf,0,0,-3),(3,np.inf,np.inf,np.inf,10000,3)) #bounds\n",
    "    popt, pcov = optimize.curve_fit(model,x,y,g,bounds=b)\n",
    "    #print(popt)\n",
    "    max_1 = np.max(x)\n",
    "    min_1 = np.min(x)\n",
    "    t = np.linspace(min_1,max_1,num=60)\n",
    "    return t, model(t,*popt),popt,pcov #popt[0:xa,1:b,2:m1,3:n,4:t,5:V0]\n",
    "\n",
    "def model(x,xa,b,m1,n,t,V0):\n",
    "    #changed to be hopefully more effeicent\n",
    "    ret = np.zeros(len(x))\n",
    "    ret[x <= xa] = seg1(x[x <= xa],m1) - seg1(xa, m1) + b\n",
    "    ret[x > xa] = seg2(x[x > xa],n,t,V0) - seg2(xa,n,t,V0) + seg1(xa,m1) - seg1(xa, m1) + b\n",
    "    return ret\n",
    "\n",
    "def seg1(x,m):#linear--full model square root\n",
    "    return m * x\n",
    "\n",
    "def seg2(x,n,t,V0):# square root\n",
    "    q_e = 1.602 * 10**-19 #C                charge of an electron\n",
    "    K_b = 1.381 * 10**-23 #m^2*kg/(s^2*K)   boltzman constant\n",
    "    m_e = 9.109 * 10**-31 #kg               mass of an electron\n",
    "    R = (3./16.) * 0.0254 #radius of probe\n",
    "    L = (3.25) * 0.0254 #length of probe\n",
    "    A = 2. * np.pi * R * L + np.pi * (R ** 2) #area of probe cylinder with out a bottom\n",
    "\n",
    "    k = q_e / (K_b * t)\n",
    "    I0 =n * q_e * np.sqrt(K_b * t / (2. * np.pi * m_e)) * A / (10**-9)\n",
    "    return I0 * np.sqrt(1. + k*(x + V0))\n",
    "\n",
    "def data_processing(x_raw,y_raw):#remove data points below -2 and above the peak to reduce datapoints going to the fitting routine\n",
    "    max_ind = np.argmax(y_raw) #find index of maximum y\n",
    "    if (max_ind.size != 1):\n",
    "        min_max_val = np.argmin(x_raw[max_ind]) #find minimum x of max y\n",
    "    else:\n",
    "        min_max_val = max_ind\n",
    "    ind_high = np.where(x_raw > x_raw[min_max_val] + 0.1) # find indexs of x greater than 0.1 more than max y\n",
    "    ind_low = np.where(x_raw < 0) #find indexs of x less than 0\n",
    "    ind_rem = np.concatenate((ind_high,ind_low),axis=None)\n",
    "    x = np.delete(x_raw,ind_rem) #remove from x\n",
    "    y = np.delete(y_raw,ind_rem) #remove from y\n",
    "    return x,y"
   ]
  },
  {
   "cell_type": "code",
   "execution_count": 30,
   "metadata": {},
   "outputs": [],
   "source": [
    "import pandas as pd\n",
    "\n",
    "# Load the IV.csv file to inspect its structure and data\n",
    "file_path = 'IV.csv'\n",
    "iv_data = pd.read_csv(file_path)\n",
    "\n",
    "# Display the first few rows of the dataset to understand its structure\n",
    "iv_data.head()\n",
    "voltage = iv_data[\"Voltage\"].values\n",
    "current = -iv_data[\"Current\"].values * 1e9"
   ]
  },
  {
   "cell_type": "code",
   "execution_count": 31,
   "metadata": {},
   "outputs": [
    {
     "name": "stderr",
     "output_type": "stream",
     "text": [
      "/var/folders/vd/xvmkswd51pn4d88fylf_g0kh0000gn/T/ipykernel_72080/2624228697.py:44: RuntimeWarning: invalid value encountered in sqrt\n",
      "  return I0 * np.sqrt(1. + k*(x + V0))\n"
     ]
    }
   ],
   "source": [
    "Vfit, Ifit, popt, pcov = gen_fit(voltage, current)"
   ]
  },
  {
   "cell_type": "code",
   "execution_count": 32,
   "metadata": {},
   "outputs": [
    {
     "data": {
      "image/png": "[encoded data removed]",
      "text/plain": [
       "<Figure size 720x432 with 1 Axes>"
      ]
     },
     "metadata": {
      "needs_background": "light"
     },
     "output_type": "display_data"
    }
   ],
   "source": [
    "plt.figure(figsize=(10, 6))\n",
    "plt.scatter(voltage, current, label=\"Data\", color=\"blue\", s=10)\n",
    "plt.plot(Vfit, Ifit, label=\"Fit\", color=\"red\")\n",
    "plt.xlabel(\"Voltage (V)\")\n",
    "plt.ylabel(\"Current (nA)\")\n",
    "plt.title(\"IV Curve Fit\")\n",
    "plt.legend()\n",
    "plt.grid()\n",
    "plt.show()"
   ]
  },
  {
   "cell_type": "code",
   "execution_count": 33,
   "metadata": {},
   "outputs": [
    {
     "name": "stdout",
     "output_type": "stream",
     "text": [
      "[ 2.19806541e+00  1.83629064e+00  7.74968167e+00  7.95738487e+09\n",
      "  1.09440923e+01 -2.19900707e+00]\n"
     ]
    }
   ],
   "source": [
    "print(popt)"
   ]
  },
  {
   "cell_type": "code",
   "execution_count": null,
   "metadata": {},
   "outputs": [],
   "source": []
  }
 ],
 "metadata": {
  "kernelspec": {
   "display_name": "base",
   "language": "python",
   "name": "python3"
  },
  "language_info": {
   "codemirror_mode": {
    "name": "ipython",
    "version": 3
   },
   "file_extension": ".py",
   "mimetype": "text/x-python",
   "name": "python",
   "nbconvert_exporter": "python",
   "pygments_lexer": "ipython3",
   "version": "3.9.7"
  }
 },
 "nbformat": 4,
 "nbformat_minor": 2
}

{
 "cells": [
  {
   "cell_type": "code",
   "execution_count": null,
   "metadata": {},
   "outputs": [],
   "source": [
    "import numpy as np\n",
    "# import RockSat_json.RockSat_json\n",
    "import Fitting.RockSat_1_14_fitting_functions as R_fitting\n",
    "import json\n",
    "import pandas as pd\n",
    "import matplotlib.pyplot as plt\n",
    "import matplotlib\n",
    "matplotlib.rcParams.update({'font.size': 22})"
   ]
  },
  {
   "cell_type": "code",
   "execution_count": null,
   "metadata": {},
   "outputs": [
    {
     "name": "stdout",
     "output_type": "stream",
     "text": [
      "dict_keys(['Sensor', 'Full', 'Dense'])\n",
      "dict_keys(['Start', 'Stop', 'Count', 'GroundType', 'Voltage', 'Current0', 'Current1', 'Current2', 'PhotoDiodeInitial', 'PhotoDiodeFinal'])\n"
     ]
    }
   ],
   "source": [
    "sweep = 100\n",
    "# V = np.array(packets['packets']['Full'][f'{sweep}']['Voltage'][6:]) \n",
    "# I = -np.array(packets['packets']['Full'][f'{sweep}']['Current0'][6:]) * 1e9\n",
    "packets = RockSat_json.import_data(f'UDIP_4_800s.json')\n",
    "print(packets['packets'].keys())\n",
    "print(packets['packets']['Dense'][f'{sweep}'].keys())"
   ]
  },
  {
   "cell_type": "code",
   "execution_count": null,
   "metadata": {},
   "outputs": [
    {
     "name": "stderr",
     "output_type": "stream",
     "text": [
      "/Users/joshuagoodwill/Library/CloudStorage/GoogleDrive-goodwill@udel.edu/My Drive/DAPPEr/RockSat_1_14_fitting_functions.py:44: RuntimeWarning: invalid value encountered in sqrt\n",
      "  return I0 * np.sqrt(1. + k*(x + V0))\n"
     ]
    }
   ],
   "source": [
    "packets = RockSat_json.import_data(f'UDIP_4_800s.json')\n",
    "ne = np.array([])\n",
    "Te = np.array([])\n",
    "Imax = np.array([])\n",
    "starting_sweep = 0\n",
    "stopping_sweep = 400\n",
    "step           = 1\n",
    "for sweep in range(starting_sweep, stopping_sweep, step):\n",
    "    V = np.array(packets['packets']['Full'][f'{sweep}']['Voltage'][6:]) \n",
    "    I = -np.array(packets['packets']['Full'][f'{sweep}']['Current0'][6:]) * 1e9\n",
    "    t, model, popt, pcov = R_fitting.gen_fit(V, I)\n",
    "    ne = np.append(ne,popt[3])\n",
    "    Te = np.append(Te,popt[4])\n",
    "    Imax = np.append(Imax, np.max(I))"
   ]
  },
  {
   "cell_type": "code",
   "execution_count": null,
   "metadata": {},
   "outputs": [
    {
     "name": "stdout",
     "output_type": "stream",
     "text": [
      "4513.196480938422\n"
     ]
    }
   ],
   "source": [
    "print(np.max(Imax))"
   ]
  },
  {
   "cell_type": "code",
   "execution_count": null,
   "metadata": {},
   "outputs": [
    {
     "name": "stdout",
     "output_type": "stream",
     "text": [
      "Start:261866 Stop:262325\n",
      "dt_sweep = 459\n",
      "dt_sleep = -122\n",
      "Start:262203 Stop:262668\n",
      "dt_sweep = 465\n",
      "dt_sleep = -122\n",
      "Start:262546 Stop:263006\n",
      "dt_sweep = 460\n",
      "dt_sleep = -122\n",
      "Start:262884 Stop:263344\n",
      "dt_sweep = 460\n",
      "dt_sleep = -122\n",
      "Start:263222 Stop:263683\n",
      "dt_sweep = 461\n",
      "dt_sleep = 216\n",
      "Start:263899 Stop:264380\n",
      "dt_sweep = 481\n",
      "dt_sleep = -122\n",
      "Start:264258 Stop:264727\n",
      "dt_sweep = 469\n",
      "dt_sleep = -122\n",
      "Start:264605 Stop:265065\n",
      "dt_sweep = 460\n",
      "dt_sleep = -122\n",
      "Start:264943 Stop:265402\n",
      "dt_sweep = 459\n",
      "dt_sleep = -122\n",
      "Start:265280 Stop:265739\n",
      "dt_sweep = 459\n",
      "dt_sleep = -122\n"
     ]
    }
   ],
   "source": [
    "packets = RockSat_json.import_data(f'UDIP_4_800s.json')\n",
    "starting_sweep = 400\n",
    "stopping_sweep = 410\n",
    "step           = 1\n",
    "for sweep in range(starting_sweep, stopping_sweep, step):\n",
    "  start = packets['packets']['Full'][f'{sweep}']['Start']\n",
    "  stop = packets['packets']['Full'][f'{sweep}']['Stop']\n",
    "  print('Start:' + f'{start}' + ' Stop:' + f'{stop}')\n",
    "  print('dt_sweep = 'f'{stop - start}')\n",
    "  next_start = start = packets['packets']['Full'][f'{sweep+1}']['Start']\n",
    "  print('dt_sleep = ' f'{next_start  - stop}')"
   ]
  },
  {
   "cell_type": "code",
   "execution_count": null,
   "metadata": {},
   "outputs": [],
   "source": []
  }
 ],
 "metadata": {
  "kernelspec": {
   "display_name": "base",
   "language": "python",
   "name": "python3"
  },
  "language_info": {
   "codemirror_mode": {
    "name": "ipython",
    "version": 3
   },
   "file_extension": ".py",
   "mimetype": "text/x-python",
   "name": "python",
   "nbconvert_exporter": "python",
   "pygments_lexer": "ipython3",
   "version": "3.9.7"
  }
 },
 "nbformat": 4,
 "nbformat_minor": 2
}

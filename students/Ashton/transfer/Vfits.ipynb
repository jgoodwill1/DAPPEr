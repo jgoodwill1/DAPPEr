{
 "cells": [
  {
   "cell_type": "code",
   "execution_count": 7,
   "id": "aeed0811",
   "metadata": {},
   "outputs": [],
   "source": [
    "import numpy as np\n",
    "from scipy.interpolate import interp1d"
   ]
  },
  {
   "cell_type": "markdown",
   "id": "3c2fa02a",
   "metadata": {},
   "source": []
  },
  {
   "cell_type": "code",
   "execution_count": 6,
   "id": "fb210787",
   "metadata": {},
   "outputs": [],
   "source": [
    "def VPlasma(V,I):\n",
    "    \"\"\"\n",
    "    identify plasma potential -> where electron saturation region starts\n",
    "    \"\"\"\n",
    "    \n",
    "    dIdV = np.gradient(I,V) \n",
    "    idx = np.argmax(dIdV) #Ideally is where derivative is maximized, might have to be more careful due to noise etc.\n",
    "    Vp = V[idx]\n",
    "    return Vp"
   ]
  },
  {
   "cell_type": "code",
   "execution_count": 8,
   "id": "70dfef4d",
   "metadata": {},
   "outputs": [],
   "source": [
    "def VFloat(V,I):\n",
    "    \"\"\"\n",
    "    identify floating potential -> where I=0\n",
    "    dont want to find false floating potential due to noise/wake effects etc... gotta be careful,\n",
    "    maybe take a rolling average of the IV data or something\n",
    "    \"\"\"\n",
    "    f = interp1d(I, V, kind='linear') #generate interpolated function V(I)\n",
    "    Vf = f(0.0) #V(I=0) is floating potential (in theory)\n",
    "    return Vf"
   ]
  },
  {
   "cell_type": "code",
   "execution_count": null,
   "id": "c0aa0cf3",
   "metadata": {},
   "outputs": [],
   "source": [
    "def fitting(V,I):\n",
    "    \"\"\"\n",
    "    call VPlasma, VFloat\n",
    "    generate a fitted IV curve with plasma and floating potentials identified, \n",
    "    this way we can fit IV curves bounded by plasma potential and/or floating potential\n",
    "    \"\"\"\n",
    "    Vf = VFloat(V,I)\n",
    "    Vp = VPlasma(V,I)\n",
    "    "
   ]
  },
  {
   "cell_type": "code",
   "execution_count": null,
   "id": "b43b0aee",
   "metadata": {},
   "outputs": [],
   "source": []
  }
 ],
 "metadata": {
  "kernelspec": {
   "display_name": "Python 3",
   "language": "python",
   "name": "python3"
  },
  "language_info": {
   "codemirror_mode": {
    "name": "ipython",
    "version": 3
   },
   "file_extension": ".py",
   "mimetype": "text/x-python",
   "name": "python",
   "nbconvert_exporter": "python",
   "pygments_lexer": "ipython3",
   "version": "3.12.4"
  }
 },
 "nbformat": 4,
 "nbformat_minor": 5
}
